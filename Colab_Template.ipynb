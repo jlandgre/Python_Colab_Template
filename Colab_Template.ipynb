{
 "cells": [
  {
   "cell_type": "markdown",
   "id": "56237712-c75a-4a7c-aa03-515b43a2d111",
   "metadata": {},
   "source": [
    "### Template for Running in Google Colab\n",
    "This notebook is a template for use with Google Colab. It assumes that the Python project has already been uploaded from local disk or cloned from Github into the user's Google Drive. Editable code below adds a subfolder to `sys.path` to allow a notebook to import custom libraries from *.py files in the project folder's `libs` subfolder.</br></br>J.D. Landgrebe, Data Delve LLC, October 12, 2023"
   ]
  },
  {
   "cell_type": "code",
   "execution_count": 1,
   "id": "10bc59df-bca3-466f-bd37-bd4d55e3dec3",
   "metadata": {},
   "outputs": [],
   "source": [
    "import pandas as pd\n",
    "import os, sys"
   ]
  },
  {
   "cell_type": "code",
   "execution_count": 2,
   "id": "616568df-fc1c-4f11-874b-6e709c396f82",
   "metadata": {},
   "outputs": [],
   "source": [
    "current_dir = os.getcwd()\n",
    "libs_dir = current_dir +  os.sep + 'libs' \n",
    "if not libs_dir in sys.path: sys.path.append(libs_dir)\n",
    "from demo_library import Demo"
   ]
  },
  {
   "cell_type": "code",
   "execution_count": 3,
   "id": "15bb8626-818a-496c-9cbb-c9bc2041757e",
   "metadata": {},
   "outputs": [],
   "source": [
    "#Attempt to mount user's Google Drive\n",
    "is_drive_mounted = os.path.exists('/content/drive')\n",
    "dir_google_drive = '/content/drive/My Drive/Projects_Python/Python_Colab_Template/'\n",
    "dir_libs = dir_google_drive + 'libs'\n",
    "\n",
    "if not is_drive_mounted:\n",
    "    try:\n",
    "        #Mount user's Google Drive\n",
    "        from google.colab import drive\n",
    "        drive.mount('\\content\\drive')\n",
    "        \n",
    "        #Clone the repository from Github into Google Drive\n",
    "        %cd /content/drive/My\\ Drive/Projects_Python\n",
    "        !git clone https://github.com/jlandgre/Python_Colab_Template.git\n",
    "        \n",
    "        #Add the project's libs subfolder to sys.path\n",
    "        if dir_libs not in sys.path: sys.path.append(dir_libs)\n",
    "            \n",
    "    #Error means that this Jupyter notebook is being run locally on user's CPU instead of on Google Colab\n",
    "    except ModuleNotFoundError:\n",
    "        pass"
   ]
  },
  {
   "cell_type": "code",
   "execution_count": 4,
   "id": "e500cf6a-7bec-4ea2-b2a8-ae15b01cfc50",
   "metadata": {},
   "outputs": [
    {
     "data": {
      "text/plain": [
       "'Demo'"
      ]
     },
     "execution_count": 4,
     "metadata": {},
     "output_type": "execute_result"
    }
   ],
   "source": [
    "#Instance a class from a library in the repository (/libs/demo_library.py)\n",
    "from demo_library import Demo\n",
    "cls = Demo()\n",
    "cls.name"
   ]
  }
 ],
 "metadata": {
  "kernelspec": {
   "display_name": "Python 3",
   "language": "python",
   "name": "python3"
  },
  "language_info": {
   "codemirror_mode": {
    "name": "ipython",
    "version": 3
   },
   "file_extension": ".py",
   "mimetype": "text/x-python",
   "name": "python",
   "nbconvert_exporter": "python",
   "pygments_lexer": "ipython3",
   "version": "3.8.8"
  }
 },
 "nbformat": 4,
 "nbformat_minor": 5
}
