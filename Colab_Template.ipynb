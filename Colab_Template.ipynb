{
 "cells": [
  {
   "cell_type": "markdown",
   "id": "56237712-c75a-4a7c-aa03-515b43a2d111",
   "metadata": {},
   "source": [
    "This notebook is a template for use with Google Colab"
   ]
  },
  {
   "cell_type": "code",
   "execution_count": 1,
   "id": "10bc59df-bca3-466f-bd37-bd4d55e3dec3",
   "metadata": {},
   "outputs": [],
   "source": [
    "import pandas as pd\n",
    "import os, sys"
   ]
  },
  {
   "cell_type": "code",
   "execution_count": 7,
   "id": "616568df-fc1c-4f11-874b-6e709c396f82",
   "metadata": {},
   "outputs": [],
   "source": [
    "current_dir = os.getcwd()\n",
    "libs_dir = current_dir +  os.sep + 'libs' \n",
    "if not libs_dir in sys.path: sys.path.append(libs_dir)\n",
    "from demo_library import Demo"
   ]
  },
  {
   "cell_type": "code",
   "execution_count": 3,
   "id": "15bb8626-818a-496c-9cbb-c9bc2041757e",
   "metadata": {},
   "outputs": [],
   "source": [
    "#Attempt to mount user's Google Drive\n",
    "is_drive_mounted = os.path.exists('\\content\\drive')\n",
    "if not is_drive_mounted:\n",
    "    try:\n",
    "        from google.colab import drive\n",
    "        drive.mount('\\content\\drive')\n",
    "    except ModuleNotFoundError:\n",
    "        pass"
   ]
  },
  {
   "cell_type": "code",
   "execution_count": 8,
   "id": "e500cf6a-7bec-4ea2-b2a8-ae15b01cfc50",
   "metadata": {},
   "outputs": [
    {
     "data": {
      "text/plain": [
       "'Demo'"
      ]
     },
     "execution_count": 8,
     "metadata": {},
     "output_type": "execute_result"
    }
   ],
   "source": [
    "#Instance a class from an imported library in the repository\n",
    "cls = Demo()\n",
    "cls.name"
   ]
  },
  {
   "cell_type": "code",
   "execution_count": null,
   "id": "78675786-1bcc-4ff0-afa1-773573ef6935",
   "metadata": {},
   "outputs": [],
   "source": []
  }
 ],
 "metadata": {
  "kernelspec": {
   "display_name": "Python 3",
   "language": "python",
   "name": "python3"
  },
  "language_info": {
   "codemirror_mode": {
    "name": "ipython",
    "version": 3
   },
   "file_extension": ".py",
   "mimetype": "text/x-python",
   "name": "python",
   "nbconvert_exporter": "python",
   "pygments_lexer": "ipython3",
   "version": "3.8.8"
  }
 },
 "nbformat": 4,
 "nbformat_minor": 5
}
