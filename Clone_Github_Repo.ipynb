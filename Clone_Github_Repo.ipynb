{
 "cells": [
  {
   "cell_type": "markdown",
   "metadata": {},
   "source": [
    "## Clone a Github repository into Google Drive\n",
    "This notebook is useful for cloning a Github repo into Google Drive using the following steps:\n",
    "1.  Mount the user's Google Drive\n",
    "2.  cd to the target subfolder\n",
    "3.  **Manually delete previous version of the repository if any**\n",
    "4.  Clone the repository into the target subfolder\n",
    "</br></br>\n",
    "J.D. Landgrebe, Data Delve LLC, October 12, 2023"
   ]
  },
  {
   "cell_type": "code",
   "execution_count": 7,
   "metadata": {
    "colab": {
     "base_uri": "https://localhost:8080/"
    },
    "executionInfo": {
     "elapsed": 991,
     "status": "ok",
     "timestamp": 1697138353357,
     "user": {
      "displayName": "James Landgrebe",
      "userId": "04319331083939374937"
     },
     "user_tz": 240
    },
    "id": "7PU4iZfvUC-6",
    "outputId": "7fbae806-4080-4278-a75a-fb36a8d6f818"
   },
   "outputs": [
    {
     "name": "stdout",
     "output_type": "stream",
     "text": [
      "Drive already mounted at /content/drive; to attempt to forcibly remount, call drive.mount(\"/content/drive\", force_remount=True).\n"
     ]
    }
   ],
   "source": [
    "#Mount the user's Google Drive\n",
    "from google.colab import drive\n",
    "drive.mount('/content/drive')"
   ]
  },
  {
   "cell_type": "code",
   "execution_count": 8,
   "metadata": {
    "colab": {
     "base_uri": "https://localhost:8080/"
    },
    "executionInfo": {
     "elapsed": 9,
     "status": "ok",
     "timestamp": 1697138353357,
     "user": {
      "displayName": "James Landgrebe",
      "userId": "04319331083939374937"
     },
     "user_tz": 240
    },
    "id": "0yqZraWZMyZY",
    "outputId": "4b0e46d7-b950-4e56-adcf-5e8f321593e4"
   },
   "outputs": [
    {
     "name": "stdout",
     "output_type": "stream",
     "text": [
      "/content/drive/My Drive/Projects_Python\n"
     ]
    }
   ],
   "source": [
    "#cd to target subfolder\n",
    "%cd /content/drive/My\\ Drive/Projects_Python"
   ]
  },
  {
   "cell_type": "code",
   "execution_count": 9,
   "metadata": {
    "colab": {
     "base_uri": "https://localhost:8080/"
    },
    "executionInfo": {
     "elapsed": 765,
     "status": "ok",
     "timestamp": 1697138354117,
     "user": {
      "displayName": "James Landgrebe",
      "userId": "04319331083939374937"
     },
     "user_tz": 240
    },
    "id": "ee2JZGd2UW8f",
    "outputId": "9dc68c8b-b4d8-48e5-b263-0c916140b2b9"
   },
   "outputs": [
    {
     "name": "stdout",
     "output_type": "stream",
     "text": [
      "Cloning into 'Python_Colab_Template'...\n",
      "remote: Enumerating objects: 14, done.\u001b[K\n",
      "remote: Counting objects: 100% (14/14), done.\u001b[K\n",
      "remote: Compressing objects: 100% (11/11), done.\u001b[K\n",
      "remote: Total 14 (delta 4), reused 12 (delta 2), pack-reused 0\u001b[K\n",
      "Receiving objects: 100% (14/14), done.\n",
      "Resolving deltas: 100% (4/4), done.\n"
     ]
    }
   ],
   "source": [
    "#Clone the repository (must first manually delete a previous version if any)\n",
    "!git clone https://github.com/jlandgre/Python_Colab_Template.git"
   ]
  },
  {
   "cell_type": "code",
   "execution_count": 9,
   "metadata": {
    "executionInfo": {
     "elapsed": 6,
     "status": "ok",
     "timestamp": 1697138354117,
     "user": {
      "displayName": "James Landgrebe",
      "userId": "04319331083939374937"
     },
     "user_tz": 240
    },
    "id": "jlSobSCRS8JG"
   },
   "outputs": [],
   "source": []
  }
 ],
 "metadata": {
  "colab": {
   "authorship_tag": "ABX9TyOKYnX5Oec8SLiJgK4jUzeh",
   "provenance": []
  },
  "kernelspec": {
   "display_name": "Python 3",
   "language": "python",
   "name": "python3"
  },
  "language_info": {
   "codemirror_mode": {
    "name": "ipython",
    "version": 3
   },
   "file_extension": ".py",
   "mimetype": "text/x-python",
   "name": "python",
   "nbconvert_exporter": "python",
   "pygments_lexer": "ipython3",
   "version": "3.8.8"
  }
 },
 "nbformat": 4,
 "nbformat_minor": 4
}
